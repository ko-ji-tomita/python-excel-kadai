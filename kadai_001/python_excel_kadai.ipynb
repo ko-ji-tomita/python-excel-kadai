{
  "nbformat": 4,
  "nbformat_minor": 0,
  "metadata": {
    "colab": {
      "provenance": []
    },
    "kernelspec": {
      "name": "python3",
      "display_name": "Python 3"
    },
    "language_info": {
      "name": "python"
    }
  },
  "cells": [
    {
      "cell_type": "code",
      "source": [
        "import openpyxl\n",
        "from datetime import datetime\n",
        "\n",
        "# 新規ファイルの作成\n",
        "wb = openpyxl.Workbook()\n",
        "\n",
        "# シートの作成\n",
        "ws = wb.create_sheet(\"sheet1\")\n",
        "wb.remove(wb[\"Sheet\"])  # デフォルトシート削除\n",
        "\n",
        "# sheetを指定\n",
        "sheet = wb[\"sheet1\"]\n",
        "sheet = wb.active\n",
        "\n",
        "# 日付を手動で指定（2024年10月3日）\n",
        "today = datetime(2024, 10, 3)\n",
        "\n",
        "# セルに値を入力\n",
        "sheet[\"B2\"].value = \"請求書\"\n",
        "sheet[\"B4\"].value = \"株式会社ABC\"\n",
        "sheet[\"B5\"].value = \"〒101-0022 東京都千代田区神田練塀町300\"\n",
        "sheet[\"B6\"].value = \"TEL:03-1234-5678 FAX:03-1234-5678\"\n",
        "sheet[\"B7\"].value = \"担当者名:鈴木一郎 様\"\n",
        "sheet[\"F4\"].value = \"No.\"\n",
        "sheet[\"F5\"].value = \"日付\"\n",
        "sheet[\"G4\"].value = \"0001\"\n",
        "ws[\"G5\"].value = today\n",
        "\n",
        "# G5のセルの書式を日付に変更\n",
        "ws[\"G5\"].number_format = 'yyyy/mm/dd'  # 日付フォーマットを設定\n",
        "\n",
        "# ヘッダーの入力（B10行目）\n",
        "ws[\"B10\"].value = \"商品名\"\n",
        "ws[\"C10\"].value = \"数量\"\n",
        "ws[\"D10\"].value = \"単価\"\n",
        "ws[\"E10\"].value = \"金額\"\n",
        "\n",
        "# 商品データの入力\n",
        "data = [\n",
        "    [\"商品A\", 2, 10000, 20000],\n",
        "    [\"商品B\", 1, 15000, 15000]\n",
        "]\n",
        "\n",
        "for i, row in enumerate(data, start=11):\n",
        "    ws[f\"B{i}\"] = row[0]\n",
        "    ws[f\"C{i}\"] = row[1]\n",
        "    ws[f\"D{i}\"] = row[2]\n",
        "    ws[f\"E{i}\"] = row[3]\n",
        "\n",
        "# 合計・消費税・税込み合計の計算\n",
        "ws[\"E13\"].value = 35000\n",
        "ws[\"E15\"].value = 35000\n",
        "ws[\"B15\"].value = \"合計\"\n",
        "ws[\"B16\"].value = \"消費税\"\n",
        "ws[\"E16\"].value = 35000 * 0.1  # 消費税(10%)\n",
        "ws[\"B17\"].value = \"税込み合計\"\n",
        "ws[\"E17\"].value = 35000 + (35000 * 0.1)  # 税込み合計\n",
        "\n",
        "# 日付のtodayオブジェクトを、特定のフォーマットで文字列に変換する\n",
        "filename = f\"請求書_{today.strftime('%Y%m%d')}.xlsx\"\n",
        "# 保存時刻を現在時刻にして保存する\n",
        "wb.save(filename)\n",
        "\n",
        "# 保存されたファイル名を出力\n",
        "print(f\"ファイルが '{filename}' という名前で保存されました。\")\n"
      ],
      "metadata": {
        "id": "9yuTb2wNIz_z",
        "colab": {
          "base_uri": "https://localhost:8080/"
        },
        "outputId": "7d79a584-0947-43cc-8009-a91a877b9a6b"
      },
      "execution_count": 9,
      "outputs": [
        {
          "output_type": "stream",
          "name": "stdout",
          "text": [
            "ファイルが '請求書_20241003.xlsx' という名前で保存されました。\n"
          ]
        }
      ]
    }
  ]
}