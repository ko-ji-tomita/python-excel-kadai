{
  "nbformat": 4,
  "nbformat_minor": 0,
  "metadata": {
    "colab": {
      "provenance": []
    },
    "kernelspec": {
      "name": "python3",
      "display_name": "Python 3"
    },
    "language_info": {
      "name": "python"
    }
  },
  "cells": [
    {
      "cell_type": "code",
      "execution_count": null,
      "metadata": {
        "id": "paOYA2w7FVcX"
      },
      "outputs": [],
      "source": [
        "import pandas as pd\n",
        "\n",
        "# データフレームの作成\n",
        "df = pd.DataFrame({\n",
        "    '日付': ['2023-05-17', '2023-05-18', '2023-05-19', '2023-05-20', '2023-05-21'],\n",
        "    '社員名': ['山田', '佐藤', '鈴木', '田中', '高橋'],\n",
        "    '売上': [100, 200, 150, 300, 250],\n",
        "    '部門': ['メーカー', '代理店', 'メーカー', '商社', '代理店'],\n",
        "})\n",
        "\n",
        "# 売上に基づいて業績ランクを決定する関数\n",
        "def prioritize(sales):\n",
        "    if sales >= 250:\n",
        "        return \"A\"\n",
        "    elif sales >= 200:\n",
        "        return \"B\"\n",
        "    else:\n",
        "        return \"C\"\n",
        "\n",
        "# 売上に基づいて業績ランク列を追加\n",
        "df['業績ランク'] = df['売上'].apply(prioritize)\n",
        "\n",
        "# 売上の平均を計算\n",
        "average_sales = df['売上'].mean()\n",
        "\n",
        "# 平均売上の行を追加\n",
        "average_row = pd.DataFrame({'日付': [''], '社員名': [''], '売上': [average_sales], '部門': [''], '業績ランク': ['']})\n",
        "\n",
        "\n",
        "# '部門'と'業績ランク'の間に'平均売上'列を追加\n",
        "df['平均売上'] = average_sales\n",
        "\n",
        "# 列の順序を変更\n",
        "df = df[['日付', '社員名', '売上', '部門', '平均売上', '業績ランク']]\n",
        "\n",
        "# Excelファイルを作成\n",
        "writer = pd.ExcelWriter('業績.xlsx')\n",
        "\n",
        "# DataFrameオブジェクトをExcelファイルに書き込む\n",
        "df.to_excel(writer, sheet_name='Sheet1', index=False)\n",
        "\n",
        "# Excelファイルを閉じる\n",
        "writer.close()"
      ]
    }
  ]
}